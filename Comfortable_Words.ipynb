{
  "nbformat": 4,
  "nbformat_minor": 0,
  "metadata": {
    "colab": {
      "name": "comfortable_words.ipynb",
      "provenance": [],
      "authorship_tag": "ABX9TyOXeLLUrzYIHLL/QGqcIzwy",
      "include_colab_link": true
    },
    "kernelspec": {
      "name": "python3",
      "display_name": "Python 3"
    },
    "language_info": {
      "name": "python"
    }
  },
  "cells": [
    {
      "cell_type": "markdown",
      "metadata": {
        "id": "view-in-github",
        "colab_type": "text"
      },
      "source": [
        "<a href=\"https://colab.research.google.com/github/MelekAlan/Python_Projects/blob/main/comfortable_words.ipynb\" target=\"_parent\"><img src=\"https://colab.research.google.com/assets/colab-badge.svg\" alt=\"Open In Colab\"/></a>"
      ]
    },
    {
      "cell_type": "markdown",
      "metadata": {
        "id": "TH2aRq7mLsep"
      },
      "source": [
        "**Task** : Find out if the given word is \"comfortable words\" in relation to the ten-finger keyboard use.\n",
        "\n",
        "*A comfortable word is a word which you can type always alternating the hand you type with (assuming you type using a Q-keyboard and use of the ten-fingers standard).\n",
        "\n",
        "*The word will always be a string consisting of only letters from a to z.\n",
        "\n",
        "*Write a program which returns True if it's a comfortable word or False otherwise.\n"
      ]
    },
    {
      "cell_type": "code",
      "metadata": {
        "id": "n1VigPTtLrjr"
      },
      "source": [
        "left_h = \"q, w, e, r, t, a, s, d, f, g, z, x, c, v, b\"\n",
        "right_h = \"y, u, i, o, p, h, j, k, l, n, m\"\n",
        "word = set(input(\"\").lower())\n",
        "\n",
        "if word - set(left_h) == set() or word - set(right_h) == set() :\n",
        "  print(False)\n",
        "else:\n",
        "  print(True)\n"
      ],
      "execution_count": null,
      "outputs": []
    },
    {
      "cell_type": "code",
      "metadata": {
        "id": "-cAaGk2LLrmx"
      },
      "source": [
        ""
      ],
      "execution_count": null,
      "outputs": []
    }
  ]
}
