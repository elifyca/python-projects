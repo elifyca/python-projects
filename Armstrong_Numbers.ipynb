{
  "nbformat": 4,
  "nbformat_minor": 0,
  "metadata": {
    "colab": {
      "name": "Armstrong_Numbers.ipynb",
      "provenance": [],
      "authorship_tag": "ABX9TyNftRyaeFRcQAqS75vgbBf2",
      "include_colab_link": true
    },
    "kernelspec": {
      "name": "python3",
      "display_name": "Python 3"
    },
    "language_info": {
      "name": "python"
    }
  },
  "cells": [
    {
      "cell_type": "markdown",
      "metadata": {
        "id": "view-in-github",
        "colab_type": "text"
      },
      "source": [
        "<a href=\"https://colab.research.google.com/github/MelekAlan/Python_Projects/blob/main/Armstrong_Numbers.ipynb\" target=\"_parent\"><img src=\"https://colab.research.google.com/assets/colab-badge.svg\" alt=\"Open In Colab\"/></a>"
      ]
    },
    {
      "cell_type": "markdown",
      "metadata": {
        "id": "N6XU4n76Nm3r"
      },
      "source": [
        "A number from the user will be set to be \"Armstrong.\n",
        "For example, if a number has 4 digits and is equal to the 4th (3rd power for 3-digit numbers) of each of its surroundings, this number is called the \"Armstrong\" number."
      ]
    },
    {
      "cell_type": "code",
      "metadata": {
        "colab": {
          "base_uri": "https://localhost:8080/"
        },
        "id": "DHReEWKON2J-",
        "outputId": "c34b552d-60fb-47dd-c4ac-6b89afe621fe"
      },
      "source": [
        "num = input(\"\")\n",
        "toplam = sum([int(i) ** len(num) for i in num])\n",
        "\n",
        "if int(num) == toplam :\n",
        "  print(num, \"is a armstrong number\")\n",
        "else:\n",
        "  print(num, \"is not a armstrong number\")\n"
      ],
      "execution_count": 14,
      "outputs": [
        {
          "output_type": "stream",
          "name": "stdout",
          "text": [
            "12\n",
            "12 is not a armstrong number\n"
          ]
        }
      ]
    }
  ]
}