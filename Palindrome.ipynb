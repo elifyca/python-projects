{
  "nbformat": 4,
  "nbformat_minor": 0,
  "metadata": {
    "colab": {
      "name": "Palindrome.ipynb",
      "provenance": [],
      "collapsed_sections": [],
      "authorship_tag": "ABX9TyOKyqwZdSjMaLoDLXbJEWdQ",
      "include_colab_link": true
    },
    "kernelspec": {
      "name": "python3",
      "display_name": "Python 3"
    },
    "language_info": {
      "name": "python"
    }
  },
  "cells": [
    {
      "cell_type": "markdown",
      "metadata": {
        "id": "view-in-github",
        "colab_type": "text"
      },
      "source": [
        "<a href=\"https://colab.research.google.com/github/MelekAlan/Python_Projects/blob/main/Palindrome.ipynb\" target=\"_parent\"><img src=\"https://colab.research.google.com/assets/colab-badge.svg\" alt=\"Open In Colab\"/></a>"
      ]
    },
    {
      "cell_type": "code",
      "metadata": {
        "colab": {
          "base_uri": "https://localhost:8080/"
        },
        "id": "i0dGWi1FKTdt",
        "outputId": "506ac0eb-8c31-4ad2-e772-fef1fb8d8785"
      },
      "source": [
        "sentence = input(\"please enter a sentence : \")\n",
        "new_st = \"\"\n",
        "\n",
        "for i in sentence :\n",
        "  if i.isalnum():\n",
        "    new_st += i\n",
        "\n",
        "if new_st[::-1].lower() == new_st[::].lower() :\n",
        "  print(\"{} is a palindrome.\".format(sentence))\n",
        "else:\n",
        "  print(\"{} is not a palindrome.\".format(sentence))"
      ],
      "execution_count": 1,
      "outputs": [
        {
          "output_type": "stream",
          "name": "stdout",
          "text": [
            "please enter a sentence : ey edip adanada pide ye\n",
            "ey edip adanada pide ye is a palindrome.\n"
          ]
        }
      ]
    },
    {
      "cell_type": "code",
      "metadata": {
        "id": "juJDltkZlGht"
      },
      "source": [
        ""
      ],
      "execution_count": null,
      "outputs": []
    }
  ]
}