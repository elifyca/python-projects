{
  "nbformat": 4,
  "nbformat_minor": 0,
  "metadata": {
    "colab": {
      "name": "Rock, Paper, Scissors!.ipynb",
      "provenance": [],
      "authorship_tag": "ABX9TyOR/98XpHtIQ9M1patl4jKi",
      "include_colab_link": true
    },
    "kernelspec": {
      "name": "python3",
      "display_name": "Python 3"
    },
    "language_info": {
      "name": "python"
    }
  },
  "cells": [
    {
      "cell_type": "markdown",
      "metadata": {
        "id": "view-in-github",
        "colab_type": "text"
      },
      "source": [
        "<a href=\"https://colab.research.google.com/github/MelekAlan/Python_Projects/blob/main/Rock%2C_Paper%2C_Scissors!.ipynb\" target=\"_parent\"><img src=\"https://colab.research.google.com/assets/colab-badge.svg\" alt=\"Open In Colab\"/></a>"
      ]
    },
    {
      "cell_type": "markdown",
      "metadata": {
        "id": "9au4xL-hto3h"
      },
      "source": [
        "\n",
        "Abigail and Benson are playing Rock, Paper, Scissors.\n",
        "\n",
        "Each game is represented by an array of length 2, where the first element represents what Abigail played and the second element represents what Benson played.\n",
        "\n",
        "Given a sequence of games, determine who wins the most number of matches. If they tie, output \"Tie\".\n",
        "\n",
        "* R stands for Rock\n",
        "\n",
        "* P stands for Paper\n",
        "\n",
        "* S stands for Scissors\n",
        "\n",
        "Examples\n",
        "\n",
        "[[\"R\", \"P\"], [\"R\", \"S\"], [\"S\", \"P\"]] ➞ \"Abigail\"\n",
        "\n",
        "\n",
        "[[\"R\", \"R\"], [\"S\", \"S\"]] ➞ \"Tie\"\n",
        "\n",
        "\n",
        "[[\"S\", \"R\"], [\"R\", \"S\"], [\"R\", \"R\"]] ➞ \"Tie\"\n"
      ]
    },
    {
      "cell_type": "code",
      "metadata": {
        "colab": {
          "base_uri": "https://localhost:8080/"
        },
        "id": "yiDFUTHuuIit",
        "outputId": "6d23e4b5-50df-4eea-f560-3ac2d240a8da"
      },
      "source": [
        "x = [[\"R\", \"P\"], [\"R\", \"S\"], [\"S\", \"P\"]]\n",
        "winner = []\n",
        "\n",
        "for i in x :\n",
        "  if i[0] == i[-1] :\n",
        "    print(\"Draw!\")\n",
        "  elif (i[0] == \"R\") and (i[-1] == \"S\") :\n",
        "    print(\"Rock beat Scissors\")\n",
        "    winner += [1]\n",
        "  elif i[0] == \"R\" and i[-1] == \"P\" :\n",
        "    print(\"Paper beat Rock\")\n",
        "    winner += [-1]\n",
        "  elif i[0] == \"S\" and i[-1] == \"P\" :\n",
        "    print(\"Scissors beat Paper\")\n",
        "    winner += [1]\n",
        "  elif i[0] ==\"S\" and i[-1] == \"R\" :\n",
        "    print(\"Rock beat Scissors\") \n",
        "    winner += [-1]\n",
        "  elif i[0] == \"P\" and i[-1] ==\"R\" :\n",
        "    print(\"Paper beat Rock\")\n",
        "    winner += [1]\n",
        "  elif i[0] == \"P\" and i[-1] == \"S\" :\n",
        "    print(\"Scissors beat Paper\")\n",
        "    winner += [-1]\n",
        "\n",
        "if sum(winner) == 0 :\n",
        "  print(\"Tie\")\n",
        "elif sum(winner) >= 1 :\n",
        "  print(\"The winner is Abigail\")\n",
        "else:\n",
        "  print(\"The winner is Benson\")\n"
      ],
      "execution_count": 2,
      "outputs": [
        {
          "output_type": "stream",
          "name": "stdout",
          "text": [
            "Paper beat Rock\n",
            "Rock beat Scissors\n",
            "Scissors beat Paper\n",
            "The winner is Abigail\n"
          ]
        }
      ]
    },
    {
      "cell_type": "code",
      "metadata": {
        "id": "XzG7kKkLuJfy"
      },
      "source": [
        ""
      ],
      "execution_count": null,
      "outputs": []
    }
  ]
}